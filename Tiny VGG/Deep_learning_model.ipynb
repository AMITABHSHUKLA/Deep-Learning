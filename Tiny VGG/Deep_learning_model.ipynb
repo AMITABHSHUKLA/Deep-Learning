{
  "nbformat": 4,
  "nbformat_minor": 0,
  "metadata": {
    "colab": {
      "provenance": [],
      "gpuType": "T4"
    },
    "kernelspec": {
      "name": "python3",
      "display_name": "Python 3"
    },
    "language_info": {
      "name": "python"
    },
    "widgets": {
      "application/vnd.jupyter.widget-state+json": {
        "870e51e068e74099ae4c8d65100cc3cf": {
          "model_module": "@jupyter-widgets/controls",
          "model_name": "HBoxModel",
          "model_module_version": "1.5.0",
          "state": {
            "_dom_classes": [],
            "_model_module": "@jupyter-widgets/controls",
            "_model_module_version": "1.5.0",
            "_model_name": "HBoxModel",
            "_view_count": null,
            "_view_module": "@jupyter-widgets/controls",
            "_view_module_version": "1.5.0",
            "_view_name": "HBoxView",
            "box_style": "",
            "children": [
              "IPY_MODEL_1a62b264e9384118b0d4624119029238",
              "IPY_MODEL_1432b860c7584828ae5d528c7e8954c4",
              "IPY_MODEL_25b5398c4da8413ba646dd4e9f7020b4"
            ],
            "layout": "IPY_MODEL_17b6341ebdf64d6abba145ff53a264ae"
          }
        },
        "1a62b264e9384118b0d4624119029238": {
          "model_module": "@jupyter-widgets/controls",
          "model_name": "HTMLModel",
          "model_module_version": "1.5.0",
          "state": {
            "_dom_classes": [],
            "_model_module": "@jupyter-widgets/controls",
            "_model_module_version": "1.5.0",
            "_model_name": "HTMLModel",
            "_view_count": null,
            "_view_module": "@jupyter-widgets/controls",
            "_view_module_version": "1.5.0",
            "_view_name": "HTMLView",
            "description": "",
            "description_tooltip": null,
            "layout": "IPY_MODEL_e53bde42b72f4ed5b245150178bef8b8",
            "placeholder": "​",
            "style": "IPY_MODEL_6d6c3f60a09f46ccba1113c7f802e498",
            "value": "100%"
          }
        },
        "1432b860c7584828ae5d528c7e8954c4": {
          "model_module": "@jupyter-widgets/controls",
          "model_name": "FloatProgressModel",
          "model_module_version": "1.5.0",
          "state": {
            "_dom_classes": [],
            "_model_module": "@jupyter-widgets/controls",
            "_model_module_version": "1.5.0",
            "_model_name": "FloatProgressModel",
            "_view_count": null,
            "_view_module": "@jupyter-widgets/controls",
            "_view_module_version": "1.5.0",
            "_view_name": "ProgressView",
            "bar_style": "success",
            "description": "",
            "description_tooltip": null,
            "layout": "IPY_MODEL_a0e713204b4a46bfaeb55261328f994f",
            "max": 100,
            "min": 0,
            "orientation": "horizontal",
            "style": "IPY_MODEL_ac2e017354fd476888117ef3e787a95b",
            "value": 100
          }
        },
        "25b5398c4da8413ba646dd4e9f7020b4": {
          "model_module": "@jupyter-widgets/controls",
          "model_name": "HTMLModel",
          "model_module_version": "1.5.0",
          "state": {
            "_dom_classes": [],
            "_model_module": "@jupyter-widgets/controls",
            "_model_module_version": "1.5.0",
            "_model_name": "HTMLModel",
            "_view_count": null,
            "_view_module": "@jupyter-widgets/controls",
            "_view_module_version": "1.5.0",
            "_view_name": "HTMLView",
            "description": "",
            "description_tooltip": null,
            "layout": "IPY_MODEL_22967027e403476c8cea99c0459065c0",
            "placeholder": "​",
            "style": "IPY_MODEL_55b9894770f34e8c9814b3015387b0be",
            "value": " 100/100 [03:35&lt;00:00,  2.35s/it]"
          }
        },
        "17b6341ebdf64d6abba145ff53a264ae": {
          "model_module": "@jupyter-widgets/base",
          "model_name": "LayoutModel",
          "model_module_version": "1.2.0",
          "state": {
            "_model_module": "@jupyter-widgets/base",
            "_model_module_version": "1.2.0",
            "_model_name": "LayoutModel",
            "_view_count": null,
            "_view_module": "@jupyter-widgets/base",
            "_view_module_version": "1.2.0",
            "_view_name": "LayoutView",
            "align_content": null,
            "align_items": null,
            "align_self": null,
            "border": null,
            "bottom": null,
            "display": null,
            "flex": null,
            "flex_flow": null,
            "grid_area": null,
            "grid_auto_columns": null,
            "grid_auto_flow": null,
            "grid_auto_rows": null,
            "grid_column": null,
            "grid_gap": null,
            "grid_row": null,
            "grid_template_areas": null,
            "grid_template_columns": null,
            "grid_template_rows": null,
            "height": null,
            "justify_content": null,
            "justify_items": null,
            "left": null,
            "margin": null,
            "max_height": null,
            "max_width": null,
            "min_height": null,
            "min_width": null,
            "object_fit": null,
            "object_position": null,
            "order": null,
            "overflow": null,
            "overflow_x": null,
            "overflow_y": null,
            "padding": null,
            "right": null,
            "top": null,
            "visibility": null,
            "width": null
          }
        },
        "e53bde42b72f4ed5b245150178bef8b8": {
          "model_module": "@jupyter-widgets/base",
          "model_name": "LayoutModel",
          "model_module_version": "1.2.0",
          "state": {
            "_model_module": "@jupyter-widgets/base",
            "_model_module_version": "1.2.0",
            "_model_name": "LayoutModel",
            "_view_count": null,
            "_view_module": "@jupyter-widgets/base",
            "_view_module_version": "1.2.0",
            "_view_name": "LayoutView",
            "align_content": null,
            "align_items": null,
            "align_self": null,
            "border": null,
            "bottom": null,
            "display": null,
            "flex": null,
            "flex_flow": null,
            "grid_area": null,
            "grid_auto_columns": null,
            "grid_auto_flow": null,
            "grid_auto_rows": null,
            "grid_column": null,
            "grid_gap": null,
            "grid_row": null,
            "grid_template_areas": null,
            "grid_template_columns": null,
            "grid_template_rows": null,
            "height": null,
            "justify_content": null,
            "justify_items": null,
            "left": null,
            "margin": null,
            "max_height": null,
            "max_width": null,
            "min_height": null,
            "min_width": null,
            "object_fit": null,
            "object_position": null,
            "order": null,
            "overflow": null,
            "overflow_x": null,
            "overflow_y": null,
            "padding": null,
            "right": null,
            "top": null,
            "visibility": null,
            "width": null
          }
        },
        "6d6c3f60a09f46ccba1113c7f802e498": {
          "model_module": "@jupyter-widgets/controls",
          "model_name": "DescriptionStyleModel",
          "model_module_version": "1.5.0",
          "state": {
            "_model_module": "@jupyter-widgets/controls",
            "_model_module_version": "1.5.0",
            "_model_name": "DescriptionStyleModel",
            "_view_count": null,
            "_view_module": "@jupyter-widgets/base",
            "_view_module_version": "1.2.0",
            "_view_name": "StyleView",
            "description_width": ""
          }
        },
        "a0e713204b4a46bfaeb55261328f994f": {
          "model_module": "@jupyter-widgets/base",
          "model_name": "LayoutModel",
          "model_module_version": "1.2.0",
          "state": {
            "_model_module": "@jupyter-widgets/base",
            "_model_module_version": "1.2.0",
            "_model_name": "LayoutModel",
            "_view_count": null,
            "_view_module": "@jupyter-widgets/base",
            "_view_module_version": "1.2.0",
            "_view_name": "LayoutView",
            "align_content": null,
            "align_items": null,
            "align_self": null,
            "border": null,
            "bottom": null,
            "display": null,
            "flex": null,
            "flex_flow": null,
            "grid_area": null,
            "grid_auto_columns": null,
            "grid_auto_flow": null,
            "grid_auto_rows": null,
            "grid_column": null,
            "grid_gap": null,
            "grid_row": null,
            "grid_template_areas": null,
            "grid_template_columns": null,
            "grid_template_rows": null,
            "height": null,
            "justify_content": null,
            "justify_items": null,
            "left": null,
            "margin": null,
            "max_height": null,
            "max_width": null,
            "min_height": null,
            "min_width": null,
            "object_fit": null,
            "object_position": null,
            "order": null,
            "overflow": null,
            "overflow_x": null,
            "overflow_y": null,
            "padding": null,
            "right": null,
            "top": null,
            "visibility": null,
            "width": null
          }
        },
        "ac2e017354fd476888117ef3e787a95b": {
          "model_module": "@jupyter-widgets/controls",
          "model_name": "ProgressStyleModel",
          "model_module_version": "1.5.0",
          "state": {
            "_model_module": "@jupyter-widgets/controls",
            "_model_module_version": "1.5.0",
            "_model_name": "ProgressStyleModel",
            "_view_count": null,
            "_view_module": "@jupyter-widgets/base",
            "_view_module_version": "1.2.0",
            "_view_name": "StyleView",
            "bar_color": null,
            "description_width": ""
          }
        },
        "22967027e403476c8cea99c0459065c0": {
          "model_module": "@jupyter-widgets/base",
          "model_name": "LayoutModel",
          "model_module_version": "1.2.0",
          "state": {
            "_model_module": "@jupyter-widgets/base",
            "_model_module_version": "1.2.0",
            "_model_name": "LayoutModel",
            "_view_count": null,
            "_view_module": "@jupyter-widgets/base",
            "_view_module_version": "1.2.0",
            "_view_name": "LayoutView",
            "align_content": null,
            "align_items": null,
            "align_self": null,
            "border": null,
            "bottom": null,
            "display": null,
            "flex": null,
            "flex_flow": null,
            "grid_area": null,
            "grid_auto_columns": null,
            "grid_auto_flow": null,
            "grid_auto_rows": null,
            "grid_column": null,
            "grid_gap": null,
            "grid_row": null,
            "grid_template_areas": null,
            "grid_template_columns": null,
            "grid_template_rows": null,
            "height": null,
            "justify_content": null,
            "justify_items": null,
            "left": null,
            "margin": null,
            "max_height": null,
            "max_width": null,
            "min_height": null,
            "min_width": null,
            "object_fit": null,
            "object_position": null,
            "order": null,
            "overflow": null,
            "overflow_x": null,
            "overflow_y": null,
            "padding": null,
            "right": null,
            "top": null,
            "visibility": null,
            "width": null
          }
        },
        "55b9894770f34e8c9814b3015387b0be": {
          "model_module": "@jupyter-widgets/controls",
          "model_name": "DescriptionStyleModel",
          "model_module_version": "1.5.0",
          "state": {
            "_model_module": "@jupyter-widgets/controls",
            "_model_module_version": "1.5.0",
            "_model_name": "DescriptionStyleModel",
            "_view_count": null,
            "_view_module": "@jupyter-widgets/base",
            "_view_module_version": "1.2.0",
            "_view_name": "StyleView",
            "description_width": ""
          }
        }
      }
    },
    "accelerator": "GPU"
  },
  "cells": [
    {
      "cell_type": "code",
      "execution_count": null,
      "metadata": {
        "id": "UdqJ-lQ3gze2"
      },
      "outputs": [],
      "source": [
        "import torch\n",
        "from torch import nn\n",
        "import torchvision\n",
        "from torchvision import transforms\n"
      ]
    },
    {
      "cell_type": "code",
      "source": [
        "!nvidia-smi"
      ],
      "metadata": {
        "colab": {
          "base_uri": "https://localhost:8080/"
        },
        "id": "WQ876nnAx-g9",
        "outputId": "fc178ea7-1a14-4c83-8915-3577cf91b006"
      },
      "execution_count": null,
      "outputs": [
        {
          "output_type": "stream",
          "name": "stdout",
          "text": [
            "Tue Jan 16 12:58:31 2024       \n",
            "+---------------------------------------------------------------------------------------+\n",
            "| NVIDIA-SMI 535.104.05             Driver Version: 535.104.05   CUDA Version: 12.2     |\n",
            "|-----------------------------------------+----------------------+----------------------+\n",
            "| GPU  Name                 Persistence-M | Bus-Id        Disp.A | Volatile Uncorr. ECC |\n",
            "| Fan  Temp   Perf          Pwr:Usage/Cap |         Memory-Usage | GPU-Util  Compute M. |\n",
            "|                                         |                      |               MIG M. |\n",
            "|=========================================+======================+======================|\n",
            "|   0  Tesla T4                       Off | 00000000:00:04.0 Off |                    0 |\n",
            "| N/A   41C    P8               9W /  70W |      3MiB / 15360MiB |      0%      Default |\n",
            "|                                         |                      |                  N/A |\n",
            "+-----------------------------------------+----------------------+----------------------+\n",
            "                                                                                         \n",
            "+---------------------------------------------------------------------------------------+\n",
            "| Processes:                                                                            |\n",
            "|  GPU   GI   CI        PID   Type   Process name                            GPU Memory |\n",
            "|        ID   ID                                                             Usage      |\n",
            "|=======================================================================================|\n",
            "|  No running processes found                                                           |\n",
            "+---------------------------------------------------------------------------------------+\n"
          ]
        }
      ]
    },
    {
      "cell_type": "code",
      "source": [
        "def accuracy_fn(y_true, y_pred):\n",
        "    \"\"\"Calculates accuracy between truth labels and predictions.\n",
        "\n",
        "    Args:\n",
        "        y_true (torch.Tensor): Truth labels for predictions.\n",
        "        y_pred (torch.Tensor): Predictions to be compared to predictions.\n",
        "\n",
        "    Returns:\n",
        "        [torch.float]: Accuracy value between y_true and y_pred, e.g. 78.45\n",
        "    \"\"\"\n",
        "    correct = torch.eq(y_true, y_pred).sum().item()\n",
        "    acc = (correct / len(y_pred)) * 100\n",
        "    return acc\n"
      ],
      "metadata": {
        "id": "mIKlbBfl-Xzl"
      },
      "execution_count": null,
      "outputs": []
    },
    {
      "cell_type": "code",
      "source": [
        "def train_step(model: torch.nn.Module,\n",
        "               data_loader : torch.utils.data.DataLoader,\n",
        "               loss_fn : torch.nn.Module,\n",
        "               optimizer : torch.optim.Optimizer,\n",
        "               accuracy_fn,\n",
        "               device : torch.device\n",
        "               ):\n",
        "  \"\"\" This is function for training loop. It takes model,data_loader,loss_fn,optimizer,accuracy_fn,device as an input.\"\"\"\n",
        "  # Tracking loss and accuracy\n",
        "  train_loss,train_acc = 0,0\n",
        "\n",
        "  # puting data into training mode.\n",
        "  model.train()\n",
        "  # adding loop to loop through every training batch.\n",
        "  for batch , (x,y) in enumerate(data_loader):\n",
        "    # putting data into target device\n",
        "    x,y = x.to(device),y.to(device)\n",
        "    # Forward pass (outputs raw logits)\n",
        "    y_pred = model(x)\n",
        "    # calculting loss and accuracy per batch.\n",
        "    loss = loss_fn(y_pred,y)\n",
        "    train_loss += loss\n",
        "    # optimizer zero grad.\n",
        "    optimizer.zero_grad()\n",
        "    # Back-Propagation\n",
        "    loss.backward()\n",
        "    # optimizer step\n",
        "    optimizer.step()\n",
        "    # Calculate and accumulate accuracy metric across all batches\n",
        "    y_pred_class = torch.argmax(torch.softmax(y_pred, dim=1), dim=1)\n",
        "    train_acc += (y_pred_class == y).sum().item()/len(y_pred)\n",
        "\n",
        "    train_loss = train_loss / len(data_loader)\n",
        "    train_acc = train_acc / len(data_loader)\n",
        "\n",
        "  return train_loss, train_acc\n",
        "\n",
        "\n",
        "\n"
      ],
      "metadata": {
        "id": "KIg495UT1oXE"
      },
      "execution_count": null,
      "outputs": []
    },
    {
      "cell_type": "code",
      "source": [
        "def test_step(model: torch.nn.modules,\n",
        "               data_loader : torch.utils.data.DataLoader,\n",
        "               loss_fn : torch.nn.modules,\n",
        "               accuracy_fn,\n",
        "               device : torch.device\n",
        "               ):\n",
        "  \"\"\" This is function for training loop. It takes model,data_loader,loss_fn,optimizer,accuracy_fn,device as an input.\"\"\"\n",
        "  # Tracking loss and accuracy\n",
        "  test_loss,test_acc = 0,0\n",
        "  # put model in eval mode.\n",
        "  model.eval()\n",
        "  # turn on inference mode.\n",
        "  with torch.inference_mode():\n",
        "    # Loop through DataLoader batches\n",
        "    for batch, (x,y) in enumerate(data_loader):\n",
        "      # putting data into target device\n",
        "      x,y = x.to(device),y.to(device)\n",
        "      # forward pass\n",
        "      test_pred = model(x)\n",
        "      # calculate loss and accuracy.\n",
        "      test_loss += loss_fn(test_pred,y).item()\n",
        "      #print(test_pred.shape(),y.shape())\n",
        "      test_acc += ((test_pred.argmax(dim=1) == y).sum().item()/len(test_pred))\n",
        "\n",
        "    test_loss /= len(data_loader)\n",
        "    test_acc /= len(data_loader)\n",
        "\n",
        "\n",
        "  #print(f\"test loss : {test_loss : 0.5f} | test accuracy: {test_acc: 0.5f}\")\n",
        "\n",
        "  return test_loss,test_acc\n"
      ],
      "metadata": {
        "id": "3InlAssF59Hb"
      },
      "execution_count": null,
      "outputs": []
    },
    {
      "cell_type": "code",
      "source": [
        "device = \"cuda\" if torch.cuda.is_available() else \"cpu\""
      ],
      "metadata": {
        "id": "4aghH6jML-1-"
      },
      "execution_count": null,
      "outputs": []
    },
    {
      "cell_type": "markdown",
      "source": [
        "# **Creating a train() funtion**"
      ],
      "metadata": {
        "id": "f11_4tYCdbap"
      }
    },
    {
      "cell_type": "code",
      "source": [
        "# for loading bar....\n",
        "from tqdm.auto import tqdm\n",
        "\n",
        "def train(model : nn.modules,\n",
        "          train_dataloader : torch.utils.data.DataLoader,\n",
        "          test_dataloader : torch.utils.data.DataLoader,\n",
        "          loss_fn : torch.nn.modules,\n",
        "          optimizer : torch.optim.Optimizer,\n",
        "          epochs : int,\n",
        "          accuracy_fn,\n",
        "          device = device\n",
        "          ):\n",
        "  \"\"\" It is a train() function which can used To train our Model. \"\"\"\n",
        "  # create result dictionary for storing results per epoch\n",
        "  result = {\"train_loss\" : [],\n",
        "            \"train_acc\" : [],\n",
        "            \"test_loss\" : [],\n",
        "            \"test_acc\" : [],\n",
        "            }\n",
        "\n",
        "  # looping through train and test step.\n",
        "  for epoch in tqdm(range(epochs)):\n",
        "    train_loss,train_acc = train_step(model,train_dataloader,loss_fn,optimizer,accuracy_fn,device)\n",
        "    test_loss,test_acc = test_step(model,test_dataloader,loss_fn,accuracy_fn,device)\n",
        "\n",
        "    # print out what's happening.......\n",
        "    print(f\"train_loss : {train_loss : 0.4f} | test_loss : {test_loss : 0.4f}\")\n",
        "\n",
        "    # Update the result dictionary.\n",
        "    result[\"train_loss\"].append(train_loss)\n",
        "    result[\"train_acc\"].append(train_acc)\n",
        "    result[\"test_loss\"].append(test_loss)\n",
        "    result[\"test_acc\"].append(test_acc)\n",
        "\n",
        "\n",
        "\n",
        "  return result\n"
      ],
      "metadata": {
        "id": "3CPIR4ZQaCrF"
      },
      "execution_count": null,
      "outputs": []
    },
    {
      "cell_type": "markdown",
      "source": [
        "# **Downloading Custom dataset of sushi, pizza,steak from github repo (Use raw link)**"
      ],
      "metadata": {
        "id": "ya2qlsWtMnTr"
      }
    },
    {
      "cell_type": "code",
      "source": [
        "import requests\n",
        "import zipfile\n",
        "import pathlib\n",
        "from pathlib import Path\n"
      ],
      "metadata": {
        "id": "Dgb38jCVMOGt"
      },
      "execution_count": null,
      "outputs": []
    },
    {
      "cell_type": "code",
      "source": [
        "# setting up the path to the data folder\n",
        "\n",
        "data_path = Path(\"data/\")\n",
        "\n",
        "img_path = data_path/\"pizza_steak_sushi\""
      ],
      "metadata": {
        "id": "YhLJyPdBMe3T"
      },
      "execution_count": null,
      "outputs": []
    },
    {
      "cell_type": "markdown",
      "source": [
        "# Download the file if the path doesn't exists"
      ],
      "metadata": {
        "id": "uxM06ue1ORD0"
      }
    },
    {
      "cell_type": "code",
      "source": [
        "if img_path.is_dir():\n",
        "  print(\"already exits\")\n",
        "else:\n",
        "  img_path.mkdir(parents= True,\n",
        "                 exist_ok= True)"
      ],
      "metadata": {
        "id": "cCUxhQ_ROM1v",
        "colab": {
          "base_uri": "https://localhost:8080/"
        },
        "outputId": "f8091672-0577-4513-e7f7-5eee2eb70f9a"
      },
      "execution_count": null,
      "outputs": [
        {
          "output_type": "stream",
          "name": "stdout",
          "text": [
            "already exits\n"
          ]
        }
      ]
    },
    {
      "cell_type": "markdown",
      "source": [
        "**Unzipping File**"
      ],
      "metadata": {
        "id": "m1Sz6sZFUvO0"
      }
    },
    {
      "cell_type": "code",
      "source": [
        "from zipfile import ZipFile\n",
        "with ZipFile(\"pizza_steak_sushi.zip\", \"r\") as zip_ref :\n",
        "  #zip_ref.get_info()\n",
        "  zip_ref.extractall(\"data/pizza_steak_sushi\")"
      ],
      "metadata": {
        "id": "LR7NQjo2U3LL"
      },
      "execution_count": null,
      "outputs": []
    },
    {
      "cell_type": "markdown",
      "source": [
        "**Loading data transform them and convert into DataLoader**"
      ],
      "metadata": {
        "id": "s5409oU_lVgP"
      }
    },
    {
      "cell_type": "code",
      "source": [
        "from torch.utils.data import DataLoader\n",
        "from torchvision import transforms, datasets\n",
        "# Creating Transformer for transforming data into tensors, same shape and adding some randomess\n",
        "data_transform = transforms.Compose([transforms.Resize(size = (256,256)),\n",
        "                                    transforms.RandomHorizontalFlip(p=0.5),\n",
        "                                    transforms.TrivialAugmentWide(num_magnitude_bins= 10),\n",
        "                                    transforms.ToTensor()])\n"
      ],
      "metadata": {
        "id": "rTh4Eh5elUkD"
      },
      "execution_count": null,
      "outputs": []
    },
    {
      "cell_type": "markdown",
      "source": [
        "**TRANSFORMING......**"
      ],
      "metadata": {
        "id": "dnvdS5zCPTAV"
      }
    },
    {
      "cell_type": "code",
      "source": [
        "# Transforming image.\n",
        "train_data = datasets.ImageFolder(root = \"data/pizza_steak_sushi/train\",\n",
        "                                        transform= data_transform,\n",
        "                                        target_transform=None)\n",
        "test_data = datasets.ImageFolder(root = \"data/pizza_steak_sushi/test\",\n",
        "                                        transform= data_transform,\n",
        "                                        target_transform=None)"
      ],
      "metadata": {
        "id": "ITfob7NE3USd"
      },
      "execution_count": null,
      "outputs": []
    },
    {
      "cell_type": "markdown",
      "source": [
        "**Turn Loaded image into DataLoader**"
      ],
      "metadata": {
        "id": "rTT33Uvj5Ifg"
      }
    },
    {
      "cell_type": "code",
      "source": [
        "import os\n",
        "train_dataloader = DataLoader(dataset = train_data,\n",
        "                              batch_size= 32,\n",
        "                              num_workers=os.cpu_count(),\n",
        "                              shuffle=True)\n",
        "test_dataloader = DataLoader(dataset = test_data,\n",
        "                              batch_size= 32,\n",
        "                             num_workers= os.cpu_count(),\n",
        "                              shuffle=False)"
      ],
      "metadata": {
        "id": "nhvKTyys43WL"
      },
      "execution_count": null,
      "outputs": []
    },
    {
      "cell_type": "code",
      "source": [
        "img, label = next(iter(train_dataloader))\n",
        "img,label"
      ],
      "metadata": {
        "colab": {
          "base_uri": "https://localhost:8080/"
        },
        "id": "epwrpEfs450n",
        "outputId": "bd2071d6-657b-49e4-e722-b90e6c38be69"
      },
      "execution_count": null,
      "outputs": [
        {
          "output_type": "execute_result",
          "data": {
            "text/plain": [
              "(tensor([[[[0.4039, 0.4431, 0.4588,  ..., 0.0000, 0.0000, 0.0000],\n",
              "           [0.3961, 0.4431, 0.4627,  ..., 0.0000, 0.0000, 0.0000],\n",
              "           [0.3882, 0.4431, 0.4667,  ..., 0.0000, 0.0000, 0.0000],\n",
              "           ...,\n",
              "           [0.2078, 0.2078, 0.2078,  ..., 0.8314, 0.8235, 0.8157],\n",
              "           [0.2000, 0.2039, 0.2078,  ..., 0.8235, 0.8196, 0.8157],\n",
              "           [0.1961, 0.1961, 0.2039,  ..., 0.8196, 0.8118, 0.8118]],\n",
              " \n",
              "          [[0.2706, 0.3020, 0.3137,  ..., 0.0000, 0.0000, 0.0000],\n",
              "           [0.2627, 0.3020, 0.3176,  ..., 0.0000, 0.0000, 0.0000],\n",
              "           [0.2549, 0.3020, 0.3216,  ..., 0.0000, 0.0000, 0.0000],\n",
              "           ...,\n",
              "           [0.0706, 0.0706, 0.0706,  ..., 0.6824, 0.6824, 0.6784],\n",
              "           [0.0706, 0.0706, 0.0706,  ..., 0.6706, 0.6706, 0.6667],\n",
              "           [0.0706, 0.0706, 0.0667,  ..., 0.6588, 0.6588, 0.6549]],\n",
              " \n",
              "          [[0.2235, 0.2471, 0.2471,  ..., 0.0000, 0.0000, 0.0000],\n",
              "           [0.2118, 0.2471, 0.2510,  ..., 0.0000, 0.0000, 0.0000],\n",
              "           [0.2039, 0.2431, 0.2549,  ..., 0.0000, 0.0000, 0.0000],\n",
              "           ...,\n",
              "           [0.0941, 0.0941, 0.0941,  ..., 0.4157, 0.4157, 0.4196],\n",
              "           [0.0941, 0.0941, 0.0941,  ..., 0.4157, 0.4157, 0.4196],\n",
              "           [0.0902, 0.0902, 0.0902,  ..., 0.4157, 0.4118, 0.4118]]],\n",
              " \n",
              " \n",
              "         [[[1.0000, 1.0000, 1.0000,  ..., 0.4078, 0.2980, 0.1961],\n",
              "           [1.0000, 1.0000, 1.0000,  ..., 0.5020, 0.4627, 0.3882],\n",
              "           [1.0000, 1.0000, 1.0000,  ..., 0.5059, 0.4941, 0.4824],\n",
              "           ...,\n",
              "           [1.0000, 1.0000, 1.0000,  ..., 0.4275, 0.3373, 0.3059],\n",
              "           [1.0000, 1.0000, 1.0000,  ..., 0.4353, 0.3569, 0.3373],\n",
              "           [1.0000, 1.0000, 1.0000,  ..., 0.5647, 0.3843, 0.3451]],\n",
              " \n",
              "          [[1.0000, 1.0000, 1.0000,  ..., 0.0118, 0.0000, 0.0000],\n",
              "           [1.0000, 1.0000, 1.0000,  ..., 0.0980, 0.0627, 0.0000],\n",
              "           [1.0000, 1.0000, 1.0000,  ..., 0.0980, 0.0824, 0.0784],\n",
              "           ...,\n",
              "           [0.9961, 0.9961, 1.0000,  ..., 0.2000, 0.2078, 0.2392],\n",
              "           [1.0000, 1.0000, 0.9961,  ..., 0.1804, 0.2078, 0.2588],\n",
              "           [1.0000, 1.0000, 1.0000,  ..., 0.2980, 0.2275, 0.2510]],\n",
              " \n",
              "          [[0.8667, 0.8667, 0.8667,  ..., 0.0000, 0.0000, 0.0000],\n",
              "           [0.8588, 0.8510, 0.8471,  ..., 0.0000, 0.0000, 0.0000],\n",
              "           [0.8667, 0.8510, 0.8314,  ..., 0.0000, 0.0000, 0.0000],\n",
              "           ...,\n",
              "           [0.2392, 0.2471, 0.2588,  ..., 0.0196, 0.1216, 0.2118],\n",
              "           [0.2314, 0.2392, 0.2510,  ..., 0.0000, 0.1176, 0.2392],\n",
              "           [0.2118, 0.2392, 0.2588,  ..., 0.0784, 0.1216, 0.2275]]],\n",
              " \n",
              " \n",
              "         [[[0.4902, 0.4902, 0.4824,  ..., 0.3843, 0.3843, 0.3804],\n",
              "           [0.4902, 0.4902, 0.4824,  ..., 0.3843, 0.3843, 0.3804],\n",
              "           [0.4902, 0.4902, 0.4863,  ..., 0.3843, 0.3882, 0.3882],\n",
              "           ...,\n",
              "           [0.6392, 0.6431, 0.6471,  ..., 0.6118, 0.6118, 0.6039],\n",
              "           [0.6471, 0.6471, 0.6510,  ..., 0.6039, 0.6000, 0.5961],\n",
              "           [0.6471, 0.6510, 0.6549,  ..., 0.6000, 0.5961, 0.5882]],\n",
              " \n",
              "          [[0.4784, 0.4745, 0.4667,  ..., 0.3725, 0.3725, 0.3686],\n",
              "           [0.4784, 0.4745, 0.4667,  ..., 0.3725, 0.3725, 0.3686],\n",
              "           [0.4784, 0.4745, 0.4706,  ..., 0.3725, 0.3765, 0.3765],\n",
              "           ...,\n",
              "           [0.6471, 0.6510, 0.6549,  ..., 0.6353, 0.6431, 0.6471],\n",
              "           [0.6549, 0.6588, 0.6627,  ..., 0.6275, 0.6353, 0.6392],\n",
              "           [0.6588, 0.6627, 0.6667,  ..., 0.6235, 0.6275, 0.6314]],\n",
              " \n",
              "          [[0.4824, 0.4784, 0.4706,  ..., 0.4039, 0.4039, 0.4000],\n",
              "           [0.4824, 0.4784, 0.4706,  ..., 0.4039, 0.4039, 0.4000],\n",
              "           [0.4824, 0.4784, 0.4745,  ..., 0.4039, 0.4078, 0.4078],\n",
              "           ...,\n",
              "           [0.7098, 0.7098, 0.7137,  ..., 0.6980, 0.7020, 0.7020],\n",
              "           [0.7137, 0.7176, 0.7216,  ..., 0.6902, 0.6941, 0.6941],\n",
              "           [0.7176, 0.7216, 0.7255,  ..., 0.6863, 0.6863, 0.6863]]],\n",
              " \n",
              " \n",
              "         ...,\n",
              " \n",
              " \n",
              "         [[[0.0392, 0.0549, 0.0392,  ..., 0.0000, 0.0078, 0.0235],\n",
              "           [0.0392, 0.0392, 0.0235,  ..., 0.0235, 0.0078, 0.0078],\n",
              "           [0.0078, 0.0078, 0.0000,  ..., 0.0000, 0.0000, 0.0000],\n",
              "           ...,\n",
              "           [0.7137, 0.7412, 0.7961,  ..., 0.1412, 0.1333, 0.1373],\n",
              "           [0.7059, 0.7412, 0.7608,  ..., 0.1412, 0.1529, 0.1412],\n",
              "           [0.7412, 0.6902, 0.7333,  ..., 0.1333, 0.1608, 0.1569]],\n",
              " \n",
              "          [[0.0314, 0.0667, 0.0510,  ..., 0.0000, 0.0000, 0.0039],\n",
              "           [0.0314, 0.0314, 0.0118,  ..., 0.0118, 0.0118, 0.0118],\n",
              "           [0.0000, 0.0039, 0.0039,  ..., 0.0039, 0.0039, 0.0118],\n",
              "           ...,\n",
              "           [0.5961, 0.6392, 0.7098,  ..., 0.1333, 0.0980, 0.1333],\n",
              "           [0.5961, 0.6392, 0.6667,  ..., 0.1137, 0.1490, 0.1333],\n",
              "           [0.6392, 0.5882, 0.6392,  ..., 0.0824, 0.1922, 0.1490]],\n",
              " \n",
              "          [[0.2627, 0.3294, 0.2627,  ..., 0.0118, 0.0118, 0.0118],\n",
              "           [0.2627, 0.2627, 0.1804,  ..., 0.0902, 0.0902, 0.0902],\n",
              "           [0.1333, 0.1804, 0.1333,  ..., 0.0902, 0.0902, 0.0902],\n",
              "           ...,\n",
              "           [0.6549, 0.7059, 0.7412,  ..., 0.1333, 0.0902, 0.1333],\n",
              "           [0.6157, 0.6549, 0.6431,  ..., 0.1804, 0.2627, 0.1333],\n",
              "           [0.6431, 0.5176, 0.5451,  ..., 0.1333, 0.3529, 0.2980]]],\n",
              " \n",
              " \n",
              "         [[[0.0549, 0.0549, 0.0549,  ..., 0.4941, 0.4784, 0.4431],\n",
              "           [0.0510, 0.0549, 0.0549,  ..., 0.4353, 0.4314, 0.4275],\n",
              "           [0.0510, 0.0510, 0.0471,  ..., 0.4118, 0.4118, 0.4196],\n",
              "           ...,\n",
              "           [0.6118, 0.6157, 0.6196,  ..., 0.5922, 0.5843, 0.5882],\n",
              "           [0.6078, 0.6039, 0.6078,  ..., 0.5882, 0.5804, 0.5843],\n",
              "           [0.6118, 0.6000, 0.5961,  ..., 0.5882, 0.5804, 0.5804]],\n",
              " \n",
              "          [[0.0039, 0.0078, 0.0157,  ..., 0.4196, 0.4078, 0.3686],\n",
              "           [0.0078, 0.0118, 0.0157,  ..., 0.3569, 0.3529, 0.3451],\n",
              "           [0.0118, 0.0118, 0.0118,  ..., 0.3294, 0.3294, 0.3333],\n",
              "           ...,\n",
              "           [0.6314, 0.6431, 0.6510,  ..., 0.6431, 0.6353, 0.6392],\n",
              "           [0.6275, 0.6314, 0.6392,  ..., 0.6471, 0.6431, 0.6431],\n",
              "           [0.6314, 0.6235, 0.6275,  ..., 0.6471, 0.6431, 0.6431]],\n",
              " \n",
              "          [[0.0000, 0.0039, 0.0157,  ..., 0.3412, 0.3333, 0.3020],\n",
              "           [0.0000, 0.0039, 0.0157,  ..., 0.2863, 0.2824, 0.2784],\n",
              "           [0.0039, 0.0039, 0.0118,  ..., 0.2627, 0.2627, 0.2706],\n",
              "           ...,\n",
              "           [0.6039, 0.6118, 0.6196,  ..., 0.6078, 0.6000, 0.6039],\n",
              "           [0.6000, 0.6000, 0.6078,  ..., 0.6078, 0.6039, 0.6039],\n",
              "           [0.6039, 0.5961, 0.5961,  ..., 0.6118, 0.6039, 0.6039]]],\n",
              " \n",
              " \n",
              "         [[[0.9647, 0.9765, 0.9804,  ..., 0.1961, 0.1608, 0.1451],\n",
              "           [0.8902, 0.9216, 0.9373,  ..., 0.4667, 0.4235, 0.3882],\n",
              "           [0.7373, 0.7686, 0.7882,  ..., 0.8118, 0.7882, 0.7490],\n",
              "           ...,\n",
              "           [0.4157, 0.4118, 0.4275,  ..., 0.6706, 0.6627, 0.6549],\n",
              "           [0.3961, 0.4039, 0.4078,  ..., 0.7059, 0.7020, 0.7059],\n",
              "           [0.4000, 0.4078, 0.4118,  ..., 0.7098, 0.7176, 0.7294]],\n",
              " \n",
              "          [[0.6000, 0.6118, 0.6196,  ..., 0.0784, 0.0549, 0.0471],\n",
              "           [0.5059, 0.5373, 0.5608,  ..., 0.2745, 0.2431, 0.2157],\n",
              "           [0.3255, 0.3529, 0.3804,  ..., 0.5686, 0.5529, 0.5216],\n",
              "           ...,\n",
              "           [0.1569, 0.1412, 0.1373,  ..., 0.4157, 0.4078, 0.4000],\n",
              "           [0.1647, 0.1569, 0.1412,  ..., 0.4510, 0.4471, 0.4510],\n",
              "           [0.1843, 0.1765, 0.1569,  ..., 0.4549, 0.4627, 0.4745]],\n",
              " \n",
              "          [[0.0902, 0.0941, 0.0941,  ..., 0.0353, 0.0157, 0.0078],\n",
              "           [0.0510, 0.0745, 0.0824,  ..., 0.1608, 0.1294, 0.1020],\n",
              "           [0.0078, 0.0196, 0.0275,  ..., 0.3333, 0.3176, 0.2784],\n",
              "           ...,\n",
              "           [0.0275, 0.0118, 0.0078,  ..., 0.1020, 0.0941, 0.0863],\n",
              "           [0.0235, 0.0196, 0.0078,  ..., 0.1373, 0.1333, 0.1333],\n",
              "           [0.0353, 0.0314, 0.0196,  ..., 0.1412, 0.1490, 0.1529]]]]),\n",
              " tensor([0, 0, 1, 1, 2, 0, 0, 2, 2, 0, 0, 0, 0, 0, 1, 0, 2, 0, 2, 2, 0, 2, 2, 0,\n",
              "         1, 1, 1, 2, 0, 0, 2, 2]))"
            ]
          },
          "metadata": {},
          "execution_count": 26
        }
      ]
    },
    {
      "cell_type": "markdown",
      "source": [
        "# **Replicating TinyVGG architecture from CNN Explainer**"
      ],
      "metadata": {
        "id": "jKw8ye6lkoTv"
      }
    },
    {
      "cell_type": "code",
      "source": [
        "class CustomTinnyVGG(nn.Module):\n",
        "  def __init__(self,input_shape : int,\n",
        "               hidden_units : int,\n",
        "               output_shape : int\n",
        "               ) -> None:\n",
        "    super().__init__()\n",
        "    self.convblock_1 = nn.Sequential(\n",
        "        nn.Conv2d(in_channels=input_shape,\n",
        "                  out_channels= hidden_units,\n",
        "                  kernel_size = 3,\n",
        "                  stride = 1,\n",
        "                  padding = 1),\n",
        "        nn.ReLU(),\n",
        "        nn.Conv2d(in_channels=hidden_units,\n",
        "                  out_channels= hidden_units,\n",
        "                  kernel_size = 3,\n",
        "                  stride = 1,\n",
        "                  padding = 1),\n",
        "        nn.ReLU(),\n",
        "        nn.MaxPool2d(kernel_size = 2)\n",
        "    )\n",
        "\n",
        "    self.convblock_2 = nn.Sequential(\n",
        "        nn.Conv2d(in_channels=hidden_units,\n",
        "                  out_channels= hidden_units,\n",
        "                  kernel_size = 3,\n",
        "                  stride = 1,\n",
        "                  padding = 1),\n",
        "        nn.ReLU(),\n",
        "        nn.Conv2d(in_channels=hidden_units,\n",
        "                  out_channels= hidden_units,\n",
        "                  kernel_size = 3,\n",
        "                  stride = 1,\n",
        "                  padding = 1),\n",
        "        nn.ReLU(),\n",
        "        nn.MaxPool2d(kernel_size = 2)\n",
        "    )\n",
        "\n",
        "    self.Classifier = nn.Sequential(\n",
        "        nn.Flatten(),\n",
        "        nn.Linear(in_features = 61440 ,\n",
        "                  out_features= 3)\n",
        "\n",
        "    )\n",
        "\n",
        "  def forward(self, x):\n",
        "    return self.Classifier(self.convblock_2(self.convblock_1(x)))\n"
      ],
      "metadata": {
        "id": "X8-ZlMof6jol"
      },
      "execution_count": null,
      "outputs": []
    },
    {
      "cell_type": "code",
      "source": [
        "Model_0 = CustomTinnyVGG(input_shape = 3 , #no. of color chanels\n",
        "                         hidden_units = 15,\n",
        "                         output_shape = len(train_data.classes)).to(device)\n",
        "\n",
        "# set up loss funtion and optimizer\n",
        "loss_fn = nn.CrossEntropyLoss()\n",
        "optimizer = torch.optim.SGD(params = Model_0.parameters(),\n",
        "                             lr = 0.01)"
      ],
      "metadata": {
        "id": "JfEDNoZ4Axo2"
      },
      "execution_count": null,
      "outputs": []
    },
    {
      "cell_type": "code",
      "source": [
        "# start timer\n",
        "from timeit import default_timer as timer\n",
        "start_time = timer()\n",
        "\n",
        "# TRAIN OUR MODEL\n",
        "\n",
        "model_0_results = train(model = Model_0,\n",
        "                        train_dataloader= train_dataloader,\n",
        "                        test_dataloader = test_dataloader,\n",
        "                        loss_fn = loss_fn,\n",
        "                        optimizer = optimizer,epochs = 100,\n",
        "                        accuracy_fn = accuracy_fn,\n",
        "                        device = device)\n",
        "end_time = timer()\n",
        "\n",
        "print(f\"Total time taken : {end_time - start_time : 0.3f}\")\n"
      ],
      "metadata": {
        "colab": {
          "base_uri": "https://localhost:8080/",
          "height": 1000,
          "referenced_widgets": [
            "870e51e068e74099ae4c8d65100cc3cf",
            "1a62b264e9384118b0d4624119029238",
            "1432b860c7584828ae5d528c7e8954c4",
            "25b5398c4da8413ba646dd4e9f7020b4",
            "17b6341ebdf64d6abba145ff53a264ae",
            "e53bde42b72f4ed5b245150178bef8b8",
            "6d6c3f60a09f46ccba1113c7f802e498",
            "a0e713204b4a46bfaeb55261328f994f",
            "ac2e017354fd476888117ef3e787a95b",
            "22967027e403476c8cea99c0459065c0",
            "55b9894770f34e8c9814b3015387b0be"
          ]
        },
        "id": "fAxxJp7lFbAW",
        "outputId": "eaab782c-e862-4b7f-a37f-6ce2339a32a2"
      },
      "execution_count": null,
      "outputs": [
        {
          "output_type": "display_data",
          "data": {
            "text/plain": [
              "  0%|          | 0/100 [00:00<?, ?it/s]"
            ],
            "application/vnd.jupyter.widget-view+json": {
              "version_major": 2,
              "version_minor": 0,
              "model_id": "870e51e068e74099ae4c8d65100cc3cf"
            }
          },
          "metadata": {}
        },
        {
          "output_type": "stream",
          "name": "stdout",
          "text": [
            "train_loss :  0.1526 | test_loss :  1.2765\n",
            "train_loss :  0.1429 | test_loss :  1.2022\n",
            "train_loss :  0.1679 | test_loss :  1.0674\n",
            "train_loss :  0.1662 | test_loss :  1.1002\n",
            "train_loss :  0.1558 | test_loss :  1.1129\n",
            "train_loss :  0.1506 | test_loss :  1.1312\n",
            "train_loss :  0.1465 | test_loss :  1.1561\n",
            "train_loss :  0.1664 | test_loss :  1.1010\n",
            "train_loss :  0.1530 | test_loss :  1.1148\n",
            "train_loss :  0.1604 | test_loss :  1.0983\n",
            "train_loss :  0.1542 | test_loss :  1.1044\n",
            "train_loss :  0.1486 | test_loss :  1.1243\n",
            "train_loss :  0.1485 | test_loss :  1.1477\n",
            "train_loss :  0.1436 | test_loss :  1.1486\n",
            "train_loss :  0.1659 | test_loss :  1.0952\n",
            "train_loss :  0.1561 | test_loss :  1.0785\n",
            "train_loss :  0.1558 | test_loss :  1.0591\n",
            "train_loss :  0.1506 | test_loss :  1.1266\n",
            "train_loss :  0.1649 | test_loss :  1.0600\n",
            "train_loss :  0.1407 | test_loss :  1.2270\n",
            "train_loss :  0.1558 | test_loss :  1.0551\n",
            "train_loss :  0.1668 | test_loss :  0.9854\n",
            "train_loss :  0.1606 | test_loss :  1.2741\n",
            "train_loss :  0.1621 | test_loss :  1.0894\n",
            "train_loss :  0.1238 | test_loss :  1.2395\n",
            "train_loss :  0.1457 | test_loss :  1.1660\n",
            "train_loss :  0.1876 | test_loss :  1.1252\n",
            "train_loss :  0.1271 | test_loss :  1.1778\n",
            "train_loss :  0.1622 | test_loss :  0.9788\n",
            "train_loss :  0.1210 | test_loss :  1.5328\n",
            "train_loss :  0.1617 | test_loss :  1.5968\n",
            "train_loss :  0.2560 | test_loss :  1.5920\n",
            "train_loss :  0.2004 | test_loss :  1.0598\n",
            "train_loss :  0.1414 | test_loss :  1.0483\n",
            "train_loss :  0.1597 | test_loss :  1.0338\n",
            "train_loss :  0.1253 | test_loss :  1.0149\n",
            "train_loss :  0.1444 | test_loss :  1.0038\n",
            "train_loss :  0.1544 | test_loss :  1.6228\n",
            "train_loss :  0.1811 | test_loss :  0.9561\n",
            "train_loss :  0.0900 | test_loss :  1.3342\n",
            "train_loss :  0.0948 | test_loss :  1.2096\n",
            "train_loss :  0.1350 | test_loss :  1.4347\n",
            "train_loss :  0.0957 | test_loss :  1.4886\n",
            "train_loss :  0.2118 | test_loss :  1.7485\n",
            "train_loss :  0.1260 | test_loss :  1.2516\n",
            "train_loss :  0.0465 | test_loss :  1.1339\n",
            "train_loss :  0.2184 | test_loss :  1.3340\n",
            "train_loss :  0.1707 | test_loss :  0.9973\n",
            "train_loss :  0.1674 | test_loss :  0.9601\n",
            "train_loss :  0.1357 | test_loss :  1.1377\n",
            "train_loss :  0.0316 | test_loss :  1.1409\n",
            "train_loss :  0.0801 | test_loss :  0.9646\n",
            "train_loss :  0.0905 | test_loss :  0.9842\n",
            "train_loss :  0.1433 | test_loss :  1.0325\n",
            "train_loss :  0.0970 | test_loss :  1.1643\n",
            "train_loss :  0.0777 | test_loss :  1.1948\n",
            "train_loss :  0.2288 | test_loss :  0.9437\n",
            "train_loss :  0.1153 | test_loss :  1.4501\n",
            "train_loss :  0.0981 | test_loss :  1.3190\n",
            "train_loss :  0.1469 | test_loss :  0.9769\n",
            "train_loss :  0.0955 | test_loss :  1.1907\n",
            "train_loss :  0.0229 | test_loss :  1.1598\n",
            "train_loss :  0.1314 | test_loss :  1.7158\n",
            "train_loss :  0.1064 | test_loss :  1.2645\n",
            "train_loss :  0.1179 | test_loss :  0.9543\n",
            "train_loss :  0.1067 | test_loss :  0.9961\n",
            "train_loss :  0.3026 | test_loss :  2.0124\n",
            "train_loss :  0.0758 | test_loss :  1.1947\n",
            "train_loss :  0.1154 | test_loss :  1.0698\n",
            "train_loss :  0.1052 | test_loss :  1.1218\n",
            "train_loss :  0.0655 | test_loss :  1.2633\n",
            "train_loss :  0.0844 | test_loss :  1.6565\n",
            "train_loss :  0.1684 | test_loss :  1.0168\n",
            "train_loss :  0.1172 | test_loss :  1.5990\n",
            "train_loss :  0.1273 | test_loss :  1.0015\n",
            "train_loss :  0.0655 | test_loss :  1.0906\n",
            "train_loss :  0.0244 | test_loss :  0.9872\n",
            "train_loss :  0.1460 | test_loss :  1.2546\n",
            "train_loss :  0.0214 | test_loss :  1.0560\n",
            "train_loss :  0.0249 | test_loss :  1.1774\n",
            "train_loss :  0.0268 | test_loss :  1.1126\n",
            "train_loss :  0.2467 | test_loss :  0.9609\n",
            "train_loss :  0.0824 | test_loss :  1.0005\n",
            "train_loss :  0.1245 | test_loss :  1.0117\n",
            "train_loss :  0.1991 | test_loss :  1.0226\n",
            "train_loss :  0.1868 | test_loss :  1.1231\n",
            "train_loss :  0.2072 | test_loss :  1.2518\n",
            "train_loss :  0.1855 | test_loss :  1.2066\n",
            "train_loss :  0.1219 | test_loss :  1.0537\n",
            "train_loss :  0.0843 | test_loss :  1.0275\n",
            "train_loss :  0.1094 | test_loss :  1.0022\n",
            "train_loss :  0.1259 | test_loss :  1.0502\n",
            "train_loss :  0.0481 | test_loss :  1.2028\n",
            "train_loss :  0.0799 | test_loss :  1.2006\n",
            "train_loss :  0.1016 | test_loss :  1.3050\n",
            "train_loss :  0.3155 | test_loss :  1.3069\n",
            "train_loss :  0.0639 | test_loss :  1.5797\n",
            "train_loss :  0.1894 | test_loss :  1.0409\n",
            "train_loss :  0.1812 | test_loss :  1.0718\n",
            "train_loss :  0.2449 | test_loss :  1.2153\n",
            "Total time taken :  215.037\n"
          ]
        }
      ]
    },
    {
      "cell_type": "code",
      "source": [
        "model_0_results[\"train_loss\"]"
      ],
      "metadata": {
        "id": "OHuyP0exRCvp"
      },
      "execution_count": null,
      "outputs": []
    },
    {
      "cell_type": "code",
      "source": [],
      "metadata": {
        "id": "z34LsYo4RIdC"
      },
      "execution_count": null,
      "outputs": []
    }
  ]
}